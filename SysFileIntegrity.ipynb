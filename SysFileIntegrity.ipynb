{
  "nbformat": 4,
  "nbformat_minor": 0,
  "metadata": {
    "colab": {
      "provenance": []
    },
    "kernelspec": {
      "name": "python3",
      "display_name": "Python 3"
    },
    "language_info": {
      "name": "python"
    }
  },
  "cells": [
    {
      "cell_type": "code",
      "execution_count": 1,
      "metadata": {
        "id": "7Pc8usUTiIPe"
      },
      "outputs": [],
      "source": [
        "import hashlib\n",
        "import os"
      ]
    },
    {
      "cell_type": "markdown",
      "source": [
        "# **Generating the file hash**"
      ],
      "metadata": {
        "id": "7AIqDJArjAfd"
      }
    },
    {
      "cell_type": "code",
      "source": [
        "def generate_file_hash(file_path):\n",
        "  hash = hashlib.sha256()\n",
        "  with open(file_path,\"rb\") as file:\n",
        "    buffer = file.read()\n",
        "    hash.update(buffer)\n",
        "  return hash.hexdigest()"
      ],
      "metadata": {
        "id": "X0zNxFDFi6ho"
      },
      "execution_count": 2,
      "outputs": []
    },
    {
      "cell_type": "markdown",
      "source": [
        "# **Creating a baseline for all directory**"
      ],
      "metadata": {
        "id": "rsW8IGmWjJni"
      }
    },
    {
      "cell_type": "code",
      "source": [
        "def baseline(dir)->dict:\n",
        "  bsline = {}\n",
        "  for root, dirs, files in os.walk(dir):\n",
        "    for file in files:\n",
        "      # joining the path\n",
        "      file_path = os.path.join(root, file)\n",
        "      # generating the hash\n",
        "      file_hash = generate_file_hash(file_path)\n",
        "      bsline[file_path] = file_hash\n",
        "  return bsline"
      ],
      "metadata": {
        "id": "JAwx38_bjIfZ"
      },
      "execution_count": 3,
      "outputs": []
    },
    {
      "cell_type": "markdown",
      "source": [
        "# ***Saving the baseline files in a txt file.***"
      ],
      "metadata": {
        "id": "1Q6G4Ah7m19r"
      }
    },
    {
      "cell_type": "code",
      "source": [
        "dir_monitor = input(\"Specify the File path:\") or os.getcwd()\n",
        "baseline_hash = baseline(dir_monitor)\n",
        "with open(\"baseline.txt\",\"w\") as file:\n",
        "  for f_path,f_hash in baseline_hash.items():\n",
        "    file.write(f\"{f_path},{f_hash}\\n\")"
      ],
      "metadata": {
        "id": "Ysj-9AOglyq8"
      },
      "execution_count": 5,
      "outputs": []
    },
    {
      "cell_type": "markdown",
      "source": [],
      "metadata": {
        "id": "iru_qs9qlhZF"
      }
    },
    {
      "cell_type": "markdown",
      "source": [
        "# **Writing a Monitor to check the integrity of the files.**"
      ],
      "metadata": {
        "id": "t-TvpkwenY85"
      }
    },
    {
      "cell_type": "code",
      "source": [
        "import time"
      ],
      "metadata": {
        "id": "EPoSLpNznj_q"
      },
      "execution_count": 6,
      "outputs": []
    },
    {
      "cell_type": "code",
      "source": [
        "def monitor(dir,baseline_hash_file=\"baseline.txt\"):\n",
        "  with open(baseline_hash_file,\"r\") as file:\n",
        "    bline = dict(l.strip().split(\",\") for l in file)\n",
        "  while True:\n",
        "    for root,dirs,files in os.walk(dir):\n",
        "      for file in files:\n",
        "        file_path = os.path.join(root,file)\n",
        "        current_hash = generate_file_hash(file_path)\n",
        "        if file_path in bline:\n",
        "          if current_hash!=bline[file_path]:\n",
        "            print(\"[Warning!!]File Integrity has been breached\\nFile has been modified\")\n",
        "            print(f\"File: {file_path}\")\n",
        "            print(f\"Original Hash: {bline[file_path]}\")\n",
        "            print(f\"Current Hash: {current_hash}\")\n",
        "        else:\n",
        "          print(\"[@Alert]File Integrity has been breached\\nNew File has been added\")\n",
        "    # 60 second break for every file check.\n",
        "    time.sleep(10)"
      ],
      "metadata": {
        "id": "D76zkkAGnlxT"
      },
      "execution_count": 11,
      "outputs": []
    },
    {
      "cell_type": "code",
      "source": [
        "monitor(dir_monitor)"
      ],
      "metadata": {
        "colab": {
          "base_uri": "https://localhost:8080/",
          "height": 783
        },
        "id": "yXNdYLnbpiFm",
        "outputId": "6d3b9098-8fd4-476a-9579-1315691a92cd"
      },
      "execution_count": 12,
      "outputs": [
        {
          "output_type": "stream",
          "name": "stdout",
          "text": [
            "[@Alert]File Integrity has been breached\n",
            "New File has been added\n",
            "[@Alert]File Integrity has been breached\n",
            "New File has been added\n",
            "[@Alert]File Integrity has been breached\n",
            "New File has been added\n",
            "[@Alert]File Integrity has been breached\n",
            "New File has been added\n",
            "[@Alert]File Integrity has been breached\n",
            "New File has been added\n",
            "[@Alert]File Integrity has been breached\n",
            "New File has been added\n",
            "[@Alert]File Integrity has been breached\n",
            "New File has been added\n",
            "[@Alert]File Integrity has been breached\n",
            "New File has been added\n",
            "[Warning!!]File Integrity has been breached\n",
            "File has been modified\n",
            "File: /content/sample_data/anscombe.json\n",
            "Original Hash: 90438f1f2421013b58106a7eac28a289604c70e7bdaa28b829d6d8f5bd43c742\n",
            "Current Hash: 0a9d305df8f179a7a66241059a8f1362873be73644f1ab5eeb8ea815def691b1\n",
            "[@Alert]File Integrity has been breached\n",
            "New File has been added\n",
            "[Warning!!]File Integrity has been breached\n",
            "File has been modified\n",
            "File: /content/sample_data/anscombe.json\n",
            "Original Hash: 90438f1f2421013b58106a7eac28a289604c70e7bdaa28b829d6d8f5bd43c742\n",
            "Current Hash: 0a9d305df8f179a7a66241059a8f1362873be73644f1ab5eeb8ea815def691b1\n",
            "[@Alert]File Integrity has been breached\n",
            "New File has been added\n",
            "[@Alert]File Integrity has been breached\n",
            "New File has been added\n"
          ]
        },
        {
          "output_type": "error",
          "ename": "KeyboardInterrupt",
          "evalue": "",
          "traceback": [
            "\u001b[0;31m---------------------------------------------------------------------------\u001b[0m",
            "\u001b[0;31mKeyboardInterrupt\u001b[0m                         Traceback (most recent call last)",
            "\u001b[0;32m<ipython-input-12-09dc1399da36>\u001b[0m in \u001b[0;36m<cell line: 1>\u001b[0;34m()\u001b[0m\n\u001b[0;32m----> 1\u001b[0;31m \u001b[0mmonitor\u001b[0m\u001b[0;34m(\u001b[0m\u001b[0mdir_monitor\u001b[0m\u001b[0;34m)\u001b[0m\u001b[0;34m\u001b[0m\u001b[0;34m\u001b[0m\u001b[0m\n\u001b[0m",
            "\u001b[0;32m<ipython-input-11-0150afb36e0a>\u001b[0m in \u001b[0;36mmonitor\u001b[0;34m(dir, baseline_hash_file)\u001b[0m\n\u001b[1;32m     16\u001b[0m           \u001b[0mprint\u001b[0m\u001b[0;34m(\u001b[0m\u001b[0;34m\"[@Alert]File Integrity has been breached\\nNew File has been added\"\u001b[0m\u001b[0;34m)\u001b[0m\u001b[0;34m\u001b[0m\u001b[0;34m\u001b[0m\u001b[0m\n\u001b[1;32m     17\u001b[0m     \u001b[0;31m# 60 second break for every file check.\u001b[0m\u001b[0;34m\u001b[0m\u001b[0;34m\u001b[0m\u001b[0m\n\u001b[0;32m---> 18\u001b[0;31m     \u001b[0mtime\u001b[0m\u001b[0;34m.\u001b[0m\u001b[0msleep\u001b[0m\u001b[0;34m(\u001b[0m\u001b[0;36m10\u001b[0m\u001b[0;34m)\u001b[0m\u001b[0;34m\u001b[0m\u001b[0;34m\u001b[0m\u001b[0m\n\u001b[0m",
            "\u001b[0;31mKeyboardInterrupt\u001b[0m: "
          ]
        }
      ]
    },
    {
      "cell_type": "markdown",
      "source": [],
      "metadata": {
        "id": "0PDk17PGphfE"
      }
    }
  ]
}